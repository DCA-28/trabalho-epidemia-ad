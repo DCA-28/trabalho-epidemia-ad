{
  "nbformat": 4,
  "nbformat_minor": 0,
  "metadata": {
    "colab": {
      "provenance": []
    },
    "kernelspec": {
      "name": "python3",
      "display_name": "Python 3"
    },
    "language_info": {
      "name": "python"
    }
  },
  "cells": [
    {
      "cell_type": "markdown",
      "source": [
        "#Trabalho 1\n",
        "##Filas e Ruína do Apostador\n",
        "##Modelagem e Avaliação de Desempenho\n",
        "\n",
        "## Entrega Preliminar\n",
        "\n",
        "### Alunos:\n",
        "Daniel Corcino de Albuquerque - DRE: 118188457\n",
        "\n",
        "Letícia Freire Carvalho de Sousa - DRE: 118025324\n",
        "\n",
        "Lucas Favilla Ferreira Alves da Silva - DRE: 119156518\n",
        "\n",
        "Roberto Leonie Ferreira Moreira - DRE: 116062192\n",
        "\n"
      ],
      "metadata": {
        "id": "KMcVKAGUvKlg"
      }
    },
    {
      "cell_type": "markdown",
      "source": [
        "#Ruína do Apostador\n",
        "\n",
        "Abaixo executamos algumas simulações computando se primeiro a fila esvazia (equivalente a ruína do apostador), se a fila enche, no caso das filas finitas (fortuna do apostador) ou se a fila nunca esvazia durante o tempo de simulação (no caso das infinitas).\n",
        "\n",
        "No caso das finitas só paramos a simulação quando a fila enche ou esvazia.\n",
        "\n",
        "Colhemos as métricas relacionadas ao número médio de passos até a fila esvaziar e também ao tempo esperado para tanto.\n",
        "\n"
      ],
      "metadata": {
        "id": "MSm-KxEyMkoN"
      }
    },
    {
      "cell_type": "code",
      "source": [
        "import numpy as np\n",
        "import random\n",
        "import copy\n",
        "import time\n",
        "from queue import PriorityQueue\n",
        "\n",
        "# A simulacao em si\n",
        "def epidemic_simulation(LAMBDA, MU, LIM_TIME, DETERMINISTIC = 0, VERBOSE = False):\n",
        "  # classe que modela os eventos de chegada e saída de cada cliente no sistema\n",
        "  # id -- id do cliente -- incremental a partir de 1\n",
        "  # event_type -- tipo do evento (\"A\" - chegada, \"D\" - saída)\n",
        "  # arrival_time -- momento da chegada no sistema\n",
        "  # departure_time -- momento de saída do sistema\n",
        "  # service_start -- momento em que começa a ser serviço\n",
        "  # time -- momento atual, pode ser igual a arrival_time ou departure_time, a depender\n",
        "  #         de qual evento está sendo modelado\n",
        "\n",
        "\n",
        "  class Event:\n",
        "    def __init__(self, event_type, time, id):\n",
        "      self.event_type = event_type\n",
        "      self.time = time\n",
        "      self.service_start = -1\n",
        "      if(event_type == 'A'):\n",
        "        self.arrival_time = self.time\n",
        "        self.departure_time = -1\n",
        "      else:\n",
        "        self.departure_time = self.time\n",
        "      self.id = id\n",
        "\n",
        "    # comparador, utilizado para sabermos que evento vem primeiro\n",
        "    # em caso de empate damos prioridade para a saída do sistema\n",
        "    def __lt__(self, other):\n",
        "      if(self.time<other.time):\n",
        "          return True\n",
        "      if(self.time>other.time):\n",
        "          return False\n",
        "      else:\n",
        "          return (self.event_type == 'D')\n",
        "\n",
        "  # o tempo de vida residual é modelado por uma variavel aleatória exponencial com taxa MU\n",
        "  def residual_life():\n",
        "    if(DETERMINISTIC != 0):\n",
        "      return DETERMINISTIC\n",
        "    return random.expovariate(MU)\n",
        "\n",
        "  # o momento da proxima chegada é modelado pela soma de variaveis aleatórias exponenciais iid com taxa LAMBDA\n",
        "  ARRIVAL_TIME = 0\n",
        "  def next_arrival():\n",
        "    return ARRIVAL_TIME + random.expovariate(LAMBDA)\n",
        "\n",
        "  # classe para modelar o sistema\n",
        "  # waiting_queue -- lista que representa a fila de espera (células são do tipo Event)\n",
        "  # server -- variável do tipo Event que representa o cliente que está sendo servido\n",
        "  class System:\n",
        "    def __init__(self):\n",
        "      self.waiting_queue = []\n",
        "      self.server = None\n",
        "\n",
        "    # cliente e entra na lista de espera\n",
        "    def arrival(self, e):\n",
        "      self.waiting_queue.append(e)\n",
        "\n",
        "    # cliente que está sendo servido sai do sistema\n",
        "    # garantidamente só é chamado se o sistema estava ocupado\n",
        "    def departure(self):\n",
        "      server = copy.deepcopy(self.server)\n",
        "      self.server = None\n",
        "      return server\n",
        "\n",
        "    # o próximo cliente sai da fila de espera e é servido\n",
        "    def next(self, T):\n",
        "      if(self.busy() or not(self.waiting_queue)):\n",
        "        return None\n",
        "      self.server = self.waiting_queue.pop(0)\n",
        "      x = residual_life()\n",
        "      self.server.departure_time = T + x\n",
        "      self.server.time = self.server.departure_time\n",
        "      return self.server\n",
        "\n",
        "    # verifica se o sistema está ocupado\n",
        "    def busy(self):\n",
        "      return not(self.server == None)\n",
        "\n",
        "    # tamanho da fila de espera\n",
        "    def waiting_queue_size(self):\n",
        "      return len(self.waiting_queue)\n",
        "\n",
        "    # tamanho da fila (fila de espera + servidor)\n",
        "    def full_queue_size(self):\n",
        "      s = len(self.waiting_queue)\n",
        "      if(self.busy()):\n",
        "        s += 1\n",
        "      return s\n",
        "\n",
        "  class Tree:\n",
        "    def __init__(self):\n",
        "      self.parent = []\n",
        "      self.height = []\n",
        "      self.max_out_degree = 0\n",
        "      self.root = None\n",
        "      self.children = []\n",
        "      self.out_degree_frequence = {}\n",
        "\n",
        "    def dfs(self, v):\n",
        "      if len(self.children[v]) not in self.out_degree_frequence.keys():\n",
        "        self.out_degree_frequence[len(self.children[v])] = 0\n",
        "      self.out_degree_frequence[len(self.children[v])] += 1\n",
        "      self.max_out_degree = max(self.max_out_degree, len(self.children[v]))\n",
        "      for c in self.children[v]:\n",
        "        self.dfs(c)\n",
        "        self.height[v] = max(self.height[v], 1 + self.height[c])\n",
        "\n",
        "    def calc(self):\n",
        "      self.children = [[] for i in range(len(self.parent))]\n",
        "      self.height = [0 for i in range(len(self.parent))]\n",
        "\n",
        "      for u in range(len(self.parent)):\n",
        "        if(self.parent[u] == -1):\n",
        "          self.root = u\n",
        "        else:\n",
        "          self.children[self.parent[u]].append(u)\n",
        "\n",
        "      self.dfs(self.root)\n",
        "\n",
        "    def E_height_nodes(self):\n",
        "      h = 0\n",
        "      for v in range(len(self.height)):\n",
        "        h += self.height[v]\n",
        "      return h / len(self.height)\n",
        "\n",
        "\n",
        "\n",
        "\n",
        "  gambler_ruin = -1\n",
        "\n",
        "  # variáveis principais\n",
        "  system = System()\n",
        "  eventQueue = PriorityQueue()\n",
        "  tree = Tree()\n",
        "\n",
        "  id = 0 # id do próximo cliente que chegará\n",
        "\n",
        "  ARRIVAL_TIME = 0\n",
        "  # evento de chegada do próximo cliente\n",
        "  # é inicializado fora do laço principal para que a simulção comece com um cliente no sistema\n",
        "  eventQueue.put(Event('A', ARRIVAL_TIME, id))\n",
        "\n",
        "  T = 0 # tempo atual\n",
        "  P = 0 # número de passos\n",
        "\n",
        "  # laço principal da simulação\n",
        "  # Quando a simulação chega ao tempo limite paramos a simulação\n",
        "  while(T < LIM_TIME and gambler_ruin == -1):\n",
        "\n",
        "    # evento atual, pode ser de chegada ou de saída\n",
        "    current_event = eventQueue.get()\n",
        "\n",
        "    # atualizamos tempo atual da simulação\n",
        "    last_T = T\n",
        "    T = current_event.time\n",
        "\n",
        "    # atualizamos número de passos\n",
        "    P += 1\n",
        "\n",
        "    # se o evento atual é de chegada\n",
        "    if(current_event.event_type == \"A\"):\n",
        "\n",
        "      if(system.busy()):\n",
        "        tree.parent.append(system.server.id)\n",
        "      else:\n",
        "        tree.parent.append(-1)\n",
        "\n",
        "      id += 1\n",
        "      ARRIVAL_TIME = next_arrival()\n",
        "      next_arrival_event = Event('A', ARRIVAL_TIME, id)\n",
        "      eventQueue.put(next_arrival_event)\n",
        "      system.arrival(current_event)\n",
        "\n",
        "\n",
        "    # se o evento atual é de partida\n",
        "    else:\n",
        "      # cliente termina de ser servido\n",
        "      system.departure()\n",
        "\n",
        "    serving = system.next(T)\n",
        "    # se um cliente começou a ser servido neste momento\n",
        "    if(serving):\n",
        "\n",
        "      # gerando o evento de saída do cliente do sistema\n",
        "      serving.service_start = T\n",
        "      serving.event_type = 'D'\n",
        "      next_departure_event = serving\n",
        "      eventQueue.put(next_departure_event)\n",
        "\n",
        "    # se o sistema está ocioso\n",
        "    if(not(system.busy())):\n",
        "      gambler_ruin = 1 # apostador cai em ruina\n",
        "      break\n",
        "\n",
        "  tree.calc()\n",
        "\n",
        "\n",
        "  if(VERBOSE):\n",
        "    print(\"Métricas das árvores\")\n",
        "    #print(\"Pais de cada vértice:\")\n",
        "    #print(tree.parent)\n",
        "    print(\"\\nDistribuição dos graus de saída: \")\n",
        "    print(dict(sorted(tree.out_degree_frequence.items())))\n",
        "    print(f\"\\nGrau saída raíz =  {len(tree.children[tree.root])}\")\n",
        "    print(f\"Grau saída máximo =  {tree.max_out_degree:.3f}\")\n",
        "    print(f\"Altura árvore =  {tree.height[tree.root]:.3f}\")\n",
        "    print(f\"Média altura vértices =  {tree.E_height_nodes():.3f}\")\n",
        "\n",
        "  return [tree, gambler_ruin, T, P]\n"
      ],
      "metadata": {
        "id": "KIbqi4rdNPyk"
      },
      "execution_count": null,
      "outputs": []
    },
    {
      "cell_type": "code",
      "source": [
        "epidemic_simulation(2, 1, 100000, 0, True)"
      ],
      "metadata": {
        "colab": {
          "base_uri": "https://localhost:8080/"
        },
        "id": "vXgRlgWcbM8k",
        "outputId": "3d290197-46b0-409b-d575-4e93f56a0413"
      },
      "execution_count": null,
      "outputs": [
        {
          "output_type": "stream",
          "name": "stdout",
          "text": [
            "Métricas das árvores\n",
            "\n",
            "Distribuição dos graus de saída: \n",
            "{0: 1}\n",
            "\n",
            "Grau saída raíz =  0\n",
            "Grau saída máximo =  0.000\n",
            "Altura árvore =  0.000\n",
            "Média altura vértices =  0.000\n"
          ]
        },
        {
          "output_type": "execute_result",
          "data": {
            "text/plain": [
              "[<__main__.epidemic_simulation.<locals>.Tree at 0x7feec6bfea70>,\n",
              " 1,\n",
              " 0.3548113414165023,\n",
              " 2]"
            ]
          },
          "metadata": {},
          "execution_count": 217
        }
      ]
    },
    {
      "cell_type": "code",
      "source": [
        "epidemic_simulation(2, -1, 100000, 0.1, True)"
      ],
      "metadata": {
        "colab": {
          "base_uri": "https://localhost:8080/"
        },
        "id": "8-9d3AFvvUo2",
        "outputId": "a14aa617-6184-41b6-c258-ace267e8392b"
      },
      "execution_count": null,
      "outputs": [
        {
          "output_type": "stream",
          "name": "stdout",
          "text": [
            "Métricas das árvores\n",
            "\n",
            "Distribuição dos graus de saída: \n",
            "{0: 1}\n",
            "\n",
            "Grau saída raíz =  0\n",
            "Grau saída máximo =  0.000\n",
            "Altura árvore =  0.000\n",
            "Média altura vértices =  0.000\n"
          ]
        },
        {
          "output_type": "execute_result",
          "data": {
            "text/plain": [
              "[<__main__.epidemic_simulation.<locals>.Tree at 0x7feec6bfc1c0>, 1, 0.1, 2]"
            ]
          },
          "metadata": {},
          "execution_count": 218
        }
      ]
    },
    {
      "cell_type": "code",
      "source": [
        "epidemic_simulation(2, -1, 100000, 0.2, True)"
      ],
      "metadata": {
        "colab": {
          "base_uri": "https://localhost:8080/"
        },
        "id": "mPXeI6SVwkl6",
        "outputId": "700ea665-703a-4393-d378-47fadfd42571"
      },
      "execution_count": null,
      "outputs": [
        {
          "output_type": "stream",
          "name": "stdout",
          "text": [
            "Métricas das árvores\n",
            "\n",
            "Distribuição dos graus de saída: \n",
            "{0: 1}\n",
            "\n",
            "Grau saída raíz =  0\n",
            "Grau saída máximo =  0.000\n",
            "Altura árvore =  0.000\n",
            "Média altura vértices =  0.000\n"
          ]
        },
        {
          "output_type": "execute_result",
          "data": {
            "text/plain": [
              "[<__main__.epidemic_simulation.<locals>.Tree at 0x7feec6bfca30>, 1, 0.2, 2]"
            ]
          },
          "metadata": {},
          "execution_count": 219
        }
      ]
    },
    {
      "cell_type": "code",
      "source": [
        "epidemic_simulation(2, -1, 100000, 0.5, True)"
      ],
      "metadata": {
        "colab": {
          "base_uri": "https://localhost:8080/"
        },
        "id": "1a8No7L5wltB",
        "outputId": "26507484-7b78-489b-d77e-b4bef1004948"
      },
      "execution_count": null,
      "outputs": [
        {
          "output_type": "stream",
          "name": "stdout",
          "text": [
            "Métricas das árvores\n",
            "\n",
            "Distribuição dos graus de saída: \n",
            "{0: 2, 2: 1}\n",
            "\n",
            "Grau saída raíz =  2\n",
            "Grau saída máximo =  2.000\n",
            "Altura árvore =  1.000\n",
            "Média altura vértices =  0.333\n"
          ]
        },
        {
          "output_type": "execute_result",
          "data": {
            "text/plain": [
              "[<__main__.epidemic_simulation.<locals>.Tree at 0x7feec6bfc5b0>, 1, 1.5, 6]"
            ]
          },
          "metadata": {},
          "execution_count": 220
        }
      ]
    },
    {
      "cell_type": "code",
      "source": [
        "epidemic_simulation(2, -1, 100000, 1, True)"
      ],
      "metadata": {
        "colab": {
          "base_uri": "https://localhost:8080/"
        },
        "id": "3ZrJnQiEwmzZ",
        "outputId": "d0a6d78e-05d1-491b-d67e-94527d185aae"
      },
      "execution_count": null,
      "outputs": [
        {
          "output_type": "stream",
          "name": "stdout",
          "text": [
            "Métricas das árvores\n",
            "\n",
            "Distribuição dos graus de saída: \n",
            "{0: 114116, 1: 26965, 2: 27037, 3: 18083, 4: 8973, 5: 3696, 6: 1252, 7: 372, 8: 79, 9: 17, 10: 2, 11: 1}\n",
            "\n",
            "Grau saída raíz =  1\n",
            "Grau saída máximo =  11.000\n",
            "Altura árvore =  19.000\n",
            "Média altura vértices =  0.836\n"
          ]
        },
        {
          "output_type": "execute_result",
          "data": {
            "text/plain": [
              "[<__main__.epidemic_simulation.<locals>.Tree at 0x7feec6bfce80>,\n",
              " -1,\n",
              " 100000,\n",
              " 300593]"
            ]
          },
          "metadata": {},
          "execution_count": 221
        }
      ]
    },
    {
      "cell_type": "code",
      "source": [
        "def epidemic_experiment(LAMBDA, MU, COUNT_SIMULATIONS = 20, LIM_TIME = 1000000):\n",
        "  averages = {\"root_out_degree\": 0.0, \"max_out_degree\": 0.0, \"tree_height\":0.0, \"nodes_height\":0.0, \"time\": 0.0, \"count_nodes\": 0.0}\n",
        "  for sim in range(COUNT_SIMULATIONS):\n",
        "    #print(f\"Simulação {sim}:\\n\")\n",
        "    tree, gambler_ruin, T, P = epidemic_simulation(LAMBDA, MU, LIM_TIME)\n",
        "    averages[\"root_out_degree\"] += len(tree.children[tree.root])\n",
        "    averages[\"max_out_degree\"] += tree.max_out_degree\n",
        "    averages[\"tree_height\"] += tree.height[tree.root]\n",
        "    averages[\"nodes_height\"] += tree.E_height_nodes()\n",
        "    averages[\"time\"] += T\n",
        "    averages[\"count_nodes\"] += len(tree.parent)\n",
        "\n",
        "  averages[\"clients\"] = averages[\"count_nodes\"] / averages[\"time\"]\n",
        "\n",
        "  for key, value in averages.items():\n",
        "    if(key == \"clients\"):\n",
        "      continue\n",
        "    value /= COUNT_SIMULATIONS\n",
        "\n",
        "  print(\"\\nResultado:\\n\")\n",
        "\n",
        "  print(averages)\n"
      ],
      "metadata": {
        "id": "sNJOQxx4kb1m"
      },
      "execution_count": null,
      "outputs": []
    },
    {
      "cell_type": "code",
      "source": [
        "epidemic_experiment(1, 2)"
      ],
      "metadata": {
        "id": "OihfpS5Qu5Sc"
      },
      "execution_count": null,
      "outputs": []
    },
    {
      "cell_type": "code",
      "source": [
        "epidemic_experiment(2, 4)"
      ],
      "metadata": {
        "id": "NA-hJB2Uu4_5"
      },
      "execution_count": null,
      "outputs": []
    },
    {
      "cell_type": "code",
      "source": [
        "epidemic_experiment(1.05, 1)"
      ],
      "metadata": {
        "id": "_KEUbfk3u4ZC"
      },
      "execution_count": null,
      "outputs": []
    },
    {
      "cell_type": "code",
      "source": [
        "epidemic_experiment(1.10, 1)"
      ],
      "metadata": {
        "colab": {
          "base_uri": "https://localhost:8080/",
          "height": 879
        },
        "id": "O8dBMjcJrYRp",
        "outputId": "38372ed5-1e36-410b-fe2c-3157867fff02"
      },
      "execution_count": null,
      "outputs": [
        {
          "output_type": "stream",
          "name": "stdout",
          "text": [
            "Simulação 0:\n",
            "\n",
            "Simulação 1:\n",
            "\n",
            "Simulação 2:\n",
            "\n",
            "Simulação 3:\n",
            "\n",
            "Simulação 4:\n",
            "\n",
            "Simulação 5:\n",
            "\n",
            "Simulação 6:\n",
            "\n",
            "Simulação 7:\n",
            "\n",
            "Simulação 8:\n",
            "\n",
            "Simulação 9:\n",
            "\n",
            "Simulação 10:\n",
            "\n",
            "Simulação 11:\n",
            "\n",
            "Simulação 12:\n",
            "\n",
            "Simulação 13:\n",
            "\n",
            "Simulação 14:\n",
            "\n",
            "Simulação 15:\n",
            "\n"
          ]
        },
        {
          "output_type": "error",
          "ename": "KeyboardInterrupt",
          "evalue": "ignored",
          "traceback": [
            "\u001b[0;31m---------------------------------------------------------------------------\u001b[0m",
            "\u001b[0;31mKeyboardInterrupt\u001b[0m                         Traceback (most recent call last)",
            "\u001b[0;32m<ipython-input-199-9507138f128f>\u001b[0m in \u001b[0;36m<cell line: 1>\u001b[0;34m()\u001b[0m\n\u001b[0;32m----> 1\u001b[0;31m \u001b[0mepidemic_experiment\u001b[0m\u001b[0;34m(\u001b[0m\u001b[0;36m1.10\u001b[0m\u001b[0;34m,\u001b[0m \u001b[0;36m1\u001b[0m\u001b[0;34m)\u001b[0m\u001b[0;34m\u001b[0m\u001b[0;34m\u001b[0m\u001b[0m\n\u001b[0m",
            "\u001b[0;32m<ipython-input-198-edd56d62a9aa>\u001b[0m in \u001b[0;36mepidemic_experiment\u001b[0;34m(LAMBDA, MU, COUNT_SIMULATIONS, LIM_TIME)\u001b[0m\n\u001b[1;32m      3\u001b[0m   \u001b[0;32mfor\u001b[0m \u001b[0msim\u001b[0m \u001b[0;32min\u001b[0m \u001b[0mrange\u001b[0m\u001b[0;34m(\u001b[0m\u001b[0mCOUNT_SIMULATIONS\u001b[0m\u001b[0;34m)\u001b[0m\u001b[0;34m:\u001b[0m\u001b[0;34m\u001b[0m\u001b[0;34m\u001b[0m\u001b[0m\n\u001b[1;32m      4\u001b[0m     \u001b[0mprint\u001b[0m\u001b[0;34m(\u001b[0m\u001b[0;34mf\"Simulação {sim}:\\n\"\u001b[0m\u001b[0;34m)\u001b[0m\u001b[0;34m\u001b[0m\u001b[0;34m\u001b[0m\u001b[0m\n\u001b[0;32m----> 5\u001b[0;31m     \u001b[0mtree\u001b[0m\u001b[0;34m,\u001b[0m \u001b[0mgambler_ruin\u001b[0m\u001b[0;34m,\u001b[0m \u001b[0mT\u001b[0m\u001b[0;34m,\u001b[0m \u001b[0mP\u001b[0m \u001b[0;34m=\u001b[0m \u001b[0mepidemic_simulation\u001b[0m\u001b[0;34m(\u001b[0m\u001b[0mLAMBDA\u001b[0m\u001b[0;34m,\u001b[0m \u001b[0mMU\u001b[0m\u001b[0;34m,\u001b[0m \u001b[0mLIM_TIME\u001b[0m\u001b[0;34m)\u001b[0m\u001b[0;34m\u001b[0m\u001b[0;34m\u001b[0m\u001b[0m\n\u001b[0m\u001b[1;32m      6\u001b[0m     \u001b[0maverages\u001b[0m\u001b[0;34m[\u001b[0m\u001b[0;34m\"root_out_degree\"\u001b[0m\u001b[0;34m]\u001b[0m \u001b[0;34m+=\u001b[0m \u001b[0mlen\u001b[0m\u001b[0;34m(\u001b[0m\u001b[0mtree\u001b[0m\u001b[0;34m.\u001b[0m\u001b[0mchildren\u001b[0m\u001b[0;34m[\u001b[0m\u001b[0mtree\u001b[0m\u001b[0;34m.\u001b[0m\u001b[0mroot\u001b[0m\u001b[0;34m]\u001b[0m\u001b[0;34m)\u001b[0m\u001b[0;34m\u001b[0m\u001b[0;34m\u001b[0m\u001b[0m\n\u001b[1;32m      7\u001b[0m     \u001b[0maverages\u001b[0m\u001b[0;34m[\u001b[0m\u001b[0;34m\"max_out_degree\"\u001b[0m\u001b[0;34m]\u001b[0m \u001b[0;34m+=\u001b[0m \u001b[0mtree\u001b[0m\u001b[0;34m.\u001b[0m\u001b[0mmax_out_degree\u001b[0m\u001b[0;34m\u001b[0m\u001b[0;34m\u001b[0m\u001b[0m\n",
            "\u001b[0;32m<ipython-input-196-eeacc00a548b>\u001b[0m in \u001b[0;36mepidemic_simulation\u001b[0;34m(LAMBDA, MU, LIM_TIME, VERBOSE)\u001b[0m\n\u001b[1;32m    173\u001b[0m       \u001b[0mARRIVAL_TIME\u001b[0m \u001b[0;34m=\u001b[0m \u001b[0mnext_arrival\u001b[0m\u001b[0;34m(\u001b[0m\u001b[0;34m)\u001b[0m\u001b[0;34m\u001b[0m\u001b[0;34m\u001b[0m\u001b[0m\n\u001b[1;32m    174\u001b[0m       \u001b[0mnext_arrival_event\u001b[0m \u001b[0;34m=\u001b[0m \u001b[0mEvent\u001b[0m\u001b[0;34m(\u001b[0m\u001b[0;34m'A'\u001b[0m\u001b[0;34m,\u001b[0m \u001b[0mARRIVAL_TIME\u001b[0m\u001b[0;34m,\u001b[0m \u001b[0mid\u001b[0m\u001b[0;34m)\u001b[0m\u001b[0;34m\u001b[0m\u001b[0;34m\u001b[0m\u001b[0m\n\u001b[0;32m--> 175\u001b[0;31m       \u001b[0meventQueue\u001b[0m\u001b[0;34m.\u001b[0m\u001b[0mput\u001b[0m\u001b[0;34m(\u001b[0m\u001b[0mnext_arrival_event\u001b[0m\u001b[0;34m)\u001b[0m\u001b[0;34m\u001b[0m\u001b[0;34m\u001b[0m\u001b[0m\n\u001b[0m\u001b[1;32m    176\u001b[0m       \u001b[0msystem\u001b[0m\u001b[0;34m.\u001b[0m\u001b[0marrival\u001b[0m\u001b[0;34m(\u001b[0m\u001b[0mcurrent_event\u001b[0m\u001b[0;34m)\u001b[0m\u001b[0;34m\u001b[0m\u001b[0;34m\u001b[0m\u001b[0m\n\u001b[1;32m    177\u001b[0m \u001b[0;34m\u001b[0m\u001b[0m\n",
            "\u001b[0;32m/usr/lib/python3.10/queue.py\u001b[0m in \u001b[0;36mput\u001b[0;34m(self, item, block, timeout)\u001b[0m\n\u001b[1;32m    150\u001b[0m             \u001b[0mself\u001b[0m\u001b[0;34m.\u001b[0m\u001b[0m_put\u001b[0m\u001b[0;34m(\u001b[0m\u001b[0mitem\u001b[0m\u001b[0;34m)\u001b[0m\u001b[0;34m\u001b[0m\u001b[0;34m\u001b[0m\u001b[0m\n\u001b[1;32m    151\u001b[0m             \u001b[0mself\u001b[0m\u001b[0;34m.\u001b[0m\u001b[0munfinished_tasks\u001b[0m \u001b[0;34m+=\u001b[0m \u001b[0;36m1\u001b[0m\u001b[0;34m\u001b[0m\u001b[0;34m\u001b[0m\u001b[0m\n\u001b[0;32m--> 152\u001b[0;31m             \u001b[0mself\u001b[0m\u001b[0;34m.\u001b[0m\u001b[0mnot_empty\u001b[0m\u001b[0;34m.\u001b[0m\u001b[0mnotify\u001b[0m\u001b[0;34m(\u001b[0m\u001b[0;34m)\u001b[0m\u001b[0;34m\u001b[0m\u001b[0;34m\u001b[0m\u001b[0m\n\u001b[0m\u001b[1;32m    153\u001b[0m \u001b[0;34m\u001b[0m\u001b[0m\n\u001b[1;32m    154\u001b[0m     \u001b[0;32mdef\u001b[0m \u001b[0mget\u001b[0m\u001b[0;34m(\u001b[0m\u001b[0mself\u001b[0m\u001b[0;34m,\u001b[0m \u001b[0mblock\u001b[0m\u001b[0;34m=\u001b[0m\u001b[0;32mTrue\u001b[0m\u001b[0;34m,\u001b[0m \u001b[0mtimeout\u001b[0m\u001b[0;34m=\u001b[0m\u001b[0;32mNone\u001b[0m\u001b[0;34m)\u001b[0m\u001b[0;34m:\u001b[0m\u001b[0;34m\u001b[0m\u001b[0;34m\u001b[0m\u001b[0m\n",
            "\u001b[0;32m/usr/lib/python3.10/threading.py\u001b[0m in \u001b[0;36mnotify\u001b[0;34m(self, n)\u001b[0m\n\u001b[1;32m    370\u001b[0m             \u001b[0;32mraise\u001b[0m \u001b[0mRuntimeError\u001b[0m\u001b[0;34m(\u001b[0m\u001b[0;34m\"cannot notify on un-acquired lock\"\u001b[0m\u001b[0;34m)\u001b[0m\u001b[0;34m\u001b[0m\u001b[0;34m\u001b[0m\u001b[0m\n\u001b[1;32m    371\u001b[0m         \u001b[0mwaiters\u001b[0m \u001b[0;34m=\u001b[0m \u001b[0mself\u001b[0m\u001b[0;34m.\u001b[0m\u001b[0m_waiters\u001b[0m\u001b[0;34m\u001b[0m\u001b[0;34m\u001b[0m\u001b[0m\n\u001b[0;32m--> 372\u001b[0;31m         \u001b[0;32mwhile\u001b[0m \u001b[0mwaiters\u001b[0m \u001b[0;32mand\u001b[0m \u001b[0mn\u001b[0m \u001b[0;34m>\u001b[0m \u001b[0;36m0\u001b[0m\u001b[0;34m:\u001b[0m\u001b[0;34m\u001b[0m\u001b[0;34m\u001b[0m\u001b[0m\n\u001b[0m\u001b[1;32m    373\u001b[0m             \u001b[0mwaiter\u001b[0m \u001b[0;34m=\u001b[0m \u001b[0mwaiters\u001b[0m\u001b[0;34m[\u001b[0m\u001b[0;36m0\u001b[0m\u001b[0;34m]\u001b[0m\u001b[0;34m\u001b[0m\u001b[0;34m\u001b[0m\u001b[0m\n\u001b[1;32m    374\u001b[0m             \u001b[0;32mtry\u001b[0m\u001b[0;34m:\u001b[0m\u001b[0;34m\u001b[0m\u001b[0;34m\u001b[0m\u001b[0m\n",
            "\u001b[0;31mKeyboardInterrupt\u001b[0m: "
          ]
        }
      ]
    }
  ]
}